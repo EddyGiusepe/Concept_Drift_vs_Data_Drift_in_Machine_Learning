{
 "cells": [
  {
   "attachments": {},
   "cell_type": "markdown",
   "metadata": {},
   "source": [
    "<h1 align=\"center\">Concept drift vs data drift in Machine Learning</h1>"
   ]
  },
  {
   "attachments": {},
   "cell_type": "markdown",
   "metadata": {},
   "source": [
    "<font color=\"yellow\">Data Scientist.: Dr.Eddy Giusepe Chirinos Isidro</font>"
   ]
  },
  {
   "attachments": {},
   "cell_type": "markdown",
   "metadata": {},
   "source": [
    "\n",
    "Neste tutorial faço um estudo sobre`Desvio de conceito`, `Desvio de Dados` e `métodos de detecção de concept Drift`. \n",
    "No meu [repositório](https://github.com/EddyGiusepe) deixo alguns links para você aprofundar muito mais. "
   ]
  },
  {
   "attachments": {},
   "cell_type": "markdown",
   "metadata": {},
   "source": [
    "<font color=\"orange\">A `Microsoft` afirmou que o Desvio de dados é um dos principais motivos pelos quais a precisão do modelo diminui com o tempo.</font>\n",
    "\n",
    "\n",
    "\n",
    "Os modelos de aprendizado de máquina estão sujeitos à `Entropia`.\n",
    "\n",
    "> A `Entropia` pode ser definida como a medida que nos diz o quanto nossos Dados estão desorganizados e misturados. Quanto maior a `Entropia`, menor o ganho de informação e vice-versa.\n",
    "\n",
    "\n",
    "\n",
    "O `Drift do modelo` é a queda (decay) no poder preditivo de um modelo devido a alterações no ambiente (<font color=\"red\">por exemplo:</font> <font color=\"orange\">mudar o contexto de Detecçao de Fraudes em transações financeiras.</font>) e nos Dados. O mundo é dinâmico e os dados estão em constante mudança. O desempenho de um modelo de ML é tão bom quanto os dados nos quais ele é treinado, mas esses modelos se tornam obsoletos quando os dados sobre os quais eles são modelados mudam ou a máquina perde seu poder preditivo. Além disso, uma mudança no ambiente muda a relação entre as variáveis ​​do modelo. Assim, existe a necessidade de monitorar regularmente os modelos em tempo real.\n",
    "\n",
    "Dois aspectos principais do aprendizado de máquina são os dados de Treinamento e o resultado desejado. Portanto, temos dois tipos de desvio de modelo: `desvio de dados` e `desvio de conceito`.\n"
   ]
  },
  {
   "attachments": {},
   "cell_type": "markdown",
   "metadata": {},
   "source": [
    "# Data drift"
   ]
  },
  {
   "attachments": {},
   "cell_type": "markdown",
   "metadata": {},
   "source": [
    "Simplificando, o desvio de dados ocorre quando os dados em que um modelo é treinado mudam. A mudança nos `dados de entrada` ou na `variável independente` leva a um baixo desempenho do modelo. A [Microsoft](https://learn.microsoft.com/en-us/azure/machine-learning/v1/how-to-monitor-datasets?tabs=python) afirmou que o desvio de dados é um dos principais motivos pelos quais a precisão do modelo diminui com o tempo.\n",
    "\n",
    "\n",
    "O `Desvio de dados` geralmente é uma consequência de mudanças sazonais (<font color=\"red\">Por exemplo:</font> <font color=\"orange\">um `modelo de previsão de vendas de produtos sazonais`, como brinquedos de Natal ou roupas de inverno, pode ter um desempenho muito bom durante os meses de dezembro e janeiro, mas pode não ser tão preciso em prever as vendas durante o resto do ano.</font>) ou mudanças nas preferências do consumidor ao longo do tempo. <font color=\"red\">Mais exemplo:</font> dados educacionais coletados antes da Covid mostram uma preferência menor pelo aprendizado online do que pós-covid. Da mesma forma, a demanda por batons diminuiu consideravelmente após a Covid, enquanto as máscaras faciais se tornaram uma norma. Como resultado, os modelos treinados em dados anteriores serão inúteis. \n"
   ]
  },
  {
   "attachments": {},
   "cell_type": "markdown",
   "metadata": {},
   "source": [
    "O desvio de dados também pode ocorrer à custa de ser `treinado em dados específicos`, mas ser exposto a um `escopo mais amplo de dados durante a produção`. <font color=\"orange\">A detecção de spam é um bom exemplo</font>. Se os dados de treinamento incluírem menos exemplos de e-mails de spam, é mais provável que a máquina identifique equivocadamente os e-mails de spam como primários depois de implantados."
   ]
  },
  {
   "attachments": {},
   "cell_type": "markdown",
   "metadata": {},
   "source": [
    "# Concept drift"
   ]
  },
  {
   "attachments": {},
   "cell_type": "markdown",
   "metadata": {},
   "source": [
    "Ao contrário do desvio de dados, onde os dados mudam, o `Desvio de conceito` ocorre quando a Target prevista do modelo ou suas propriedades estatísticas mudam ao longo do tempo. Durante o treinamento, o modelo aprende uma função que mapeia a variável Target, mas, com o tempo, desaprende ou não consegue usar os padrões em um novo ambiente. <font color=\"red\">Por exemplo:</font> como a definição de spam evoluiu, os modelos precisam fazer ajustes. O `desvio de conceito também ocorre sazonalmente`, `repentinamente` ou `gradualmente`. <font color=\"yellow\">Por exemplo:</font> `o comportamento do consumidor após a pandemia de Covid é uma mudança repentina, enquanto as mudanças nas tendências da moda são graduais`."
   ]
  },
  {
   "cell_type": "markdown",
   "metadata": {},
   "source": []
  }
 ],
 "metadata": {
  "kernelspec": {
   "display_name": "Python 3",
   "language": "python",
   "name": "python3"
  },
  "language_info": {
   "name": "python",
   "version": "3.10.6"
  },
  "orig_nbformat": 4,
  "vscode": {
   "interpreter": {
    "hash": "916dbcbb3f70747c44a77c7bcd40155683ae19c65e1c03b4aa3499c5328201f1"
   }
  }
 },
 "nbformat": 4,
 "nbformat_minor": 2
}
