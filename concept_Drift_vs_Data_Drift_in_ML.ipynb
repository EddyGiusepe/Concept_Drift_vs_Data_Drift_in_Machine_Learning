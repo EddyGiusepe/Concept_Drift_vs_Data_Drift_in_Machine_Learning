{
 "cells": [
  {
   "attachments": {},
   "cell_type": "markdown",
   "metadata": {},
   "source": [
    "<h1 align=\"center\">Concept drift vs data drift in Machine Learning</h1>"
   ]
  },
  {
   "attachments": {},
   "cell_type": "markdown",
   "metadata": {},
   "source": [
    "<font color=\"yellow\">Data Scientist.: Dr.Eddy Giusepe Chirinos Isidro</font>"
   ]
  },
  {
   "attachments": {},
   "cell_type": "markdown",
   "metadata": {},
   "source": [
    "\n",
    "Neste tutorial faço um estudo sobre`Desvio de conceito`, `Desvio de Dados` e `métodos de detecção de concept Drift`. \n",
    "No meu [repositório](https://github.com/EddyGiusepe) deixo alguns links para você aprofundar muito mais. "
   ]
  },
  {
   "attachments": {},
   "cell_type": "markdown",
   "metadata": {},
   "source": [
    "<font color=\"orange\">A `Microsoft` afirmou que o Desvio de dados é um dos principais motivos pelos quais a precisão do modelo diminui com o tempo.</font>\n",
    "\n",
    "\n",
    "\n",
    "Os modelos de aprendizado de máquina estão sujeitos à `Entropia`.\n",
    "\n",
    "> A `Entropia` pode ser definida como a medida que nos diz o quanto nossos Dados estão desorganizados e misturados. Quanto maior a `Entropia`, menor o ganho de informação e vice-versa.\n",
    "\n",
    "\n",
    "\n",
    "O `Drift do modelo` é a queda (decay) no poder preditivo de um modelo devido a alterações no ambiente (<font color=\"red\">por exemplo:</font> <font color=\"orange\">mudar o contexto de Detecçao de Fraudes em transações financeiras.</font>) e nos Dados. O mundo é dinâmico e os dados estão em constante mudança. O desempenho de um modelo de ML é tão bom quanto os dados nos quais ele é treinado, mas esses modelos se tornam obsoletos quando os dados sobre os quais eles são modelados mudam ou a máquina perde seu poder preditivo. Além disso, uma mudança no ambiente muda a relação entre as variáveis ​​do modelo. Assim, existe a necessidade de monitorar regularmente os modelos em tempo real.\n",
    "\n",
    "Dois aspectos principais do aprendizado de máquina são os dados de Treinamento e o resultado desejado. Portanto, temos dois tipos de desvio de modelo: `desvio de dados` e `desvio de conceito`.\n"
   ]
  },
  {
   "attachments": {},
   "cell_type": "markdown",
   "metadata": {},
   "source": [
    "# O que é Drift?"
   ]
  },
  {
   "attachments": {},
   "cell_type": "markdown",
   "metadata": {},
   "source": [
    "Os modelos de aprendizado de máquina são treinados com dados históricos, mas, uma vez usados ​​no mundo real, podem ficar desatualizados e perder a precisão com o tempo devido a um fenômeno chamado desvio. Desvio é a mudança ao longo do tempo nas propriedades estatísticas dos dados que foram usados ​​para treinar um modelo de aprendizado de máquina. Isso pode fazer com que o modelo se torne menos preciso ou tenha um desempenho diferente do que foi projetado. \n",
    "\n",
    "Em outras palavras, `\"desvio\"` é o declínio na capacidade de um modelo de fazer previsões precisas devido a mudanças no ambiente em que está sendo usado."
   ]
  },
  {
   "attachments": {},
   "cell_type": "markdown",
   "metadata": {},
   "source": [
    "# Por que os modelos de Machine Learning mudam (o sofrem Drift)?"
   ]
  },
  {
   "attachments": {},
   "cell_type": "markdown",
   "metadata": {},
   "source": [
    "Existem vários motivos pelos quais os modelos de aprendizado de máquina podem se desviar com o tempo. \n",
    "\n",
    "Um motivo comum é simplesmente que os dados nos quais o modelo foi treinado ficam desatualizados ou não representam mais as condições atuais. \n",
    "\n",
    "<font color=\"red\">Por exemplo:</font> considere um modelo de aprendizado de máquina treinado para prever o preço das ações de uma empresa com base em `dados históricos`. Se treinarmos o modelo com dados de um mercado estável, pode funcionar bem no início. No entanto, se o mercado se tornar mais volátil ao longo do tempo, o modelo pode não ser mais capaz de prever com precisão o preço das ações porque as propriedades estatísticas dos dados foram alteradas.\n",
    "\n",
    "Outra razão para o desvio do modelo é que o modelo não foi projetado para lidar com mudanças nos dados. <font color=\"pink\">Alguns modelos de aprendizado de máquina podem lidar com alterações nos dados melhor do que outros, mas nenhum modelo pode evitar completamente o desvio</font>. "
   ]
  },
  {
   "attachments": {},
   "cell_type": "markdown",
   "metadata": {},
   "source": [
    "# Data Drift ou Deslocamento de Covariável"
   ]
  },
  {
   "attachments": {},
   "cell_type": "markdown",
   "metadata": {},
   "source": [
    "O desvio de dados ocorre quando os dados em que um modelo é treinado mudam. Dito de outra maneira: <font color=\"orange\">ocorre quando a `distribuição dos dados` de entrada muda ao longo do tempo</font>. A mudança nos `dados de entrada` ou na `variável independente` leva a um baixo desempenho do modelo. A [Microsoft](https://learn.microsoft.com/en-us/azure/machine-learning/v1/how-to-monitor-datasets?tabs=python) afirmou que o desvio de dados é um dos principais motivos pelos quais a precisão do modelo diminui com o tempo.\n",
    "\n",
    "\n",
    "O `Desvio de dados` geralmente é uma consequência de mudanças sazonais:\n",
    "\n",
    "\n",
    "<font color=\"red\">Exemplo 1:</font>\n",
    "\n",
    "considere um modelo de aprendizado de máquina que foi treinado para prever a probabilidade de um cliente comprar um produto com base em sua idade e renda. Se a distribuição de idades e rendas dos clientes mudar significativamente ao longo do tempo, o modelo pode não ser mais capaz de prever com precisão a probabilidade de uma compra.\n",
    "\n"
   ]
  },
  {
   "attachments": {},
   "cell_type": "markdown",
   "metadata": {},
   "source": [
    "![](https://uploads-ssl.webflow.com/6266b596eef18c1931f938f9/62e2fc7c0c1b9731460be1fc_data_drift_distribut.png)\n",
    "\n",
    "<p align=\"center\">Mudança na distribuição da feature \"idade\".</p>"
   ]
  },
  {
   "attachments": {},
   "cell_type": "markdown",
   "metadata": {},
   "source": [
    "<font color=\"red\">Exemplo 2:</font>\n",
    "\n",
    "um `modelo de previsão de vendas de produtos sazonais`, como brinquedos de Natal ou roupas de inverno, pode ter um desempenho muito bom durante os meses de dezembro e janeiro, mas pode não ser tão preciso em prever as vendas durante o resto do ano ou mudanças nas preferências do consumidor ao longo do tempo.\n",
    "\n",
    "\n",
    "<font color=\"red\">Exemplo 3:</font> \n",
    "\n",
    "dados educacionais coletados `antes da Covid` mostram uma preferência menor pelo aprendizado online do que `pós-covid`. Da mesma forma, a demanda por batons diminuiu consideravelmente após a Covid, enquanto as máscaras faciais se tornaram uma norma. Como resultado, os modelos treinados em dados anteriores serão inúteis. \n",
    "\n",
    "\n",
    "\n",
    "\n",
    "É importante estar ciente do `Desvio de conceito` e do `Desvio de dados` e tomar medidas para `prevenir` ou `mitigar` seus efeitos. Algumas estratégias para lidar com desvios incluem `monitorar` e `avaliar continuamente` o desempenho de um modelo, atualizar o modelo com novos dados e <font color=\"green\">usar modelos de aprendizado de máquina que são mais robustos para desvios</font>."
   ]
  },
  {
   "attachments": {},
   "cell_type": "markdown",
   "metadata": {},
   "source": [
    "O desvio de dados também pode ocorrer à custa de ser `treinado em dados específicos`, mas ser exposto a um `escopo mais amplo de dados durante a produção`. <font color=\"orange\">A detecção de spam é um bom exemplo</font>. Se os dados de treinamento incluírem menos exemplos de e-mails de spam, é mais provável que a máquina identifique equivocadamente os e-mails de spam como primários depois de implantados."
   ]
  },
  {
   "attachments": {},
   "cell_type": "markdown",
   "metadata": {},
   "source": [
    "# Concept Drift ou Model Drift"
   ]
  },
  {
   "attachments": {},
   "cell_type": "markdown",
   "metadata": {},
   "source": [
    "Ao contrário do desvio de dados, onde os dados mudam, o `Desvio de conceito` ocorre quando a Target prevista do modelo ou suas propriedades estatísticas mudam ao longo do tempo. Durante o treinamento, o modelo aprende uma função que mapeia a variável Target, mas, com o tempo, desaprende ou não consegue usar os padrões em um novo ambiente. \n",
    "\n",
    "<font color=\"red\">Por exemplo:</font> \n",
    "\n",
    " \n",
    ">> Imagine que um modelo de aprendizado de máquina foi treinado para detectar e-mails de `spam` com base no conteúdo do e-mail. Se os tipos de e-mails de spam que as pessoas recebem `mudarem significativamente`, o modelo pode não ser mais capaz de detectar spam com precisão.\n",
    "\n",
    "\n",
    "O `Desvio de conceito` pode ser dividido em quatro categorias:\n",
    "\n",
    "* Desvio súbito/repentino\n",
    "\n",
    "<font color=\"yellow\">Por exemplo:</font> `o comportamento do consumidor após a pandemia de Covid é uma mudança repentina, enquanto as mudanças nas tendências da moda são graduais`.\n",
    "\n",
    "* Desvio gradual\n",
    "\n",
    "* Desvio incremental\n",
    "\n",
    "* Conceitos recorrentes"
   ]
  },
  {
   "attachments": {},
   "cell_type": "markdown",
   "metadata": {},
   "source": [
    "![](https://res.cloudinary.com/dyd911kmh/image/upload/v1673459876/Concept_Drift_b16df50c98.png)\n",
    "\n",
    "<p align=\"center\">fonte: https://arxiv.org/pdf/2004.05785.pdf</p>"
   ]
  },
  {
   "attachments": {},
   "cell_type": "markdown",
   "metadata": {},
   "source": [
    "O `Desvio de conceito` pode ser medido monitorando continuamente os dados de treinamento e identificando mudanças nos relacionamentos do conjunto de dados. Algoritmos populares de detecção de `desvio de conceito` incluem ADWIN (`ADaptive WINdowing`) para dados de streaming e o [teste Kolmogorov–Smirnov](https://en.wikipedia.org/wiki/Kolmogorov%E2%80%93Smirnov_test), o [teste chi-squared](https://en.wikipedia.org/wiki/Chi-squared_test) ou validação contraditória para dados em lote. Eles são aplicados aos rótulos do modelo, previsões e recursos de dados para identificar um desvio."
   ]
  },
  {
   "cell_type": "markdown",
   "metadata": {},
   "source": []
  }
 ],
 "metadata": {
  "kernelspec": {
   "display_name": "Python 3",
   "language": "python",
   "name": "python3"
  },
  "language_info": {
   "name": "python",
   "version": "3.10.6"
  },
  "orig_nbformat": 4,
  "vscode": {
   "interpreter": {
    "hash": "916dbcbb3f70747c44a77c7bcd40155683ae19c65e1c03b4aa3499c5328201f1"
   }
  }
 },
 "nbformat": 4,
 "nbformat_minor": 2
}
