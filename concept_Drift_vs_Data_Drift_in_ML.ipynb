{
 "cells": [
  {
   "attachments": {},
   "cell_type": "markdown",
   "metadata": {},
   "source": [
    "<h1 align=\"center\">Concept drift vs data drift in Machine Learning</h1>"
   ]
  },
  {
   "attachments": {},
   "cell_type": "markdown",
   "metadata": {},
   "source": [
    "<font color=\"yellow\">Data Scientist.: Dr.Eddy Giusepe Chirinos Isidro</font>"
   ]
  },
  {
   "attachments": {},
   "cell_type": "markdown",
   "metadata": {},
   "source": [
    "\n",
    "Neste tutorial faço um estudo sobre`Desvio de conceito`, `Desvio de Dados` e `métodos de detecção de concept Drift`. \n",
    "No meu [repositório](https://github.com/EddyGiusepe) deixo alguns links para você aprofundar muito mais. "
   ]
  },
  {
   "attachments": {},
   "cell_type": "markdown",
   "metadata": {},
   "source": [
    "<font color=\"orange\">A `Microsoft` afirmou que o Desvio de dados é um dos principais motivos pelos quais a precisão do modelo diminui com o tempo.</font>\n",
    "\n",
    "\n",
    "\n",
    "Os modelos de aprendizado de máquina estão sujeitos à `Entropia`.\n",
    "\n",
    "> A `Entropia` pode ser definida como a medida que nos diz o quanto nossos Dados estão desorganizados e misturados. Quanto maior a `Entropia`, menor o ganho de informação\n",
    "\n",
    "\n",
    "\n",
    " O `Drift do modelo` é a queda no poder preditivo de um modelo devido a alterações no ambiente. O mundo é dinâmico e os dados estão em constante mudança. O desempenho de um modelo de ML é tão bom quanto os dados nos quais ele é treinado, mas esses modelos se tornam obsoletos quando os dados mundiais sobre os quais eles são modelados mudam ou a máquina perde seu poder preditivo. Além disso, uma mudança no ambiente muda a relação entre as variáveis ​​do modelo. Assim, existe a necessidade de monitorar regularmente os modelos em tempo real. \n",
    "\n",
    "Dois aspectos principais do aprendizado de máquina são os dados de treinamento e o resultado desejado. Portanto, temos dois tipos de desvio de modelo: desvio de dados e desvio de conceito. \n",
    "\n",
    "\n"
   ]
  },
  {
   "cell_type": "markdown",
   "metadata": {},
   "source": []
  }
 ],
 "metadata": {
  "kernelspec": {
   "display_name": "Python 3",
   "language": "python",
   "name": "python3"
  },
  "language_info": {
   "name": "python",
   "version": "3.10.6"
  },
  "orig_nbformat": 4,
  "vscode": {
   "interpreter": {
    "hash": "916dbcbb3f70747c44a77c7bcd40155683ae19c65e1c03b4aa3499c5328201f1"
   }
  }
 },
 "nbformat": 4,
 "nbformat_minor": 2
}
